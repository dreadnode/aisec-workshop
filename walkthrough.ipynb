{
 "cells": [
  {
   "cell_type": "markdown",
   "metadata": {},
   "source": [
    "# 0. Setup\n",
    "\n",
    "```bash\n",
    "uv sync\n",
    "uv run dreadnode login\n",
    "```\n"
   ]
  },
  {
   "cell_type": "markdown",
   "metadata": {},
   "source": [
    "## 1. Initialize Components\n",
    "\n",
    "Set up Neo4j database, BBOT tool, and Strikes tracking\n"
   ]
  },
  {
   "cell_type": "code",
   "execution_count": 1,
   "metadata": {},
   "outputs": [
    {
     "data": {
      "text/html": [
       "<pre style=\"white-space:pre;overflow-x:auto;line-height:normal;font-family:Menlo,'DejaVu Sans Mono',consolas,'Courier New',monospace\">Dreadnode logging to <span style=\"color: #ff5f00; text-decoration-color: #ff5f00; text-decoration: underline\">https://platform.dreadnode.io</span> <span style=\"font-weight: bold\">(</span>profile: demo<span style=\"font-weight: bold\">)</span>\n",
       "</pre>\n"
      ],
      "text/plain": [
       "Dreadnode logging to \u001b[4;38;5;202mhttps://platform.dreadnode.io\u001b[0m \u001b[1m(\u001b[0mprofile: demo\u001b[1m)\u001b[0m\n"
      ]
     },
     "metadata": {},
     "output_type": "display_data"
    },
    {
     "name": "stderr",
     "output_type": "stream",
     "text": [
      "\u001b[32m14:23:30.163\u001b[0m | \u001b[1mBBOT working out of /Users/nick/code/aisec-workshop/.bbot\u001b[0m\n"
     ]
    },
    {
     "name": "stdout",
     "output_type": "stream",
     "text": [
      "✓ Components initialized\n"
     ]
    }
   ],
   "source": [
    "import dreadnode as dn\n",
    "import rigging as rg\n",
    "import litellm\n",
    "from loguru import logger\n",
    "\n",
    "from bbot_agent.tools import BbotTool, finish_task, update_todo, highlight_for_review\n",
    "from bbot_agent.prompts import operator\n",
    "\n",
    "# Configure Strikes\n",
    "dn.configure(\n",
    "    # api_key=\"your_api_key_here\",  # or `uv run dreadnode login`\n",
    "    project=\"agent-workshop\",\n",
    "    console=False,\n",
    ")\n",
    "\n",
    "# Create a BBOT tool to use Neo4j and containers\n",
    "bbot_tool = BbotTool()\n",
    "\n",
    "print(\"✓ Components initialized\")"
   ]
  },
  {
   "cell_type": "markdown",
   "metadata": {},
   "source": [
    "## 2. Start Services\n",
    "\n",
    "Launch Neo4j container and connect BBOT tool\n"
   ]
  },
  {
   "cell_type": "code",
   "execution_count": null,
   "metadata": {},
   "outputs": [
    {
     "name": "stderr",
     "output_type": "stream",
     "text": [
      "\u001b[32m14:23:32.534\u001b[0m | \u001b[1mStarting Neo4j container ...\u001b[0m\n",
      "\u001b[32m14:23:32.550\u001b[0m | \u001b[1mImage 'neo4j:latest' already exists locally\u001b[0m\n",
      "\u001b[32m14:23:33.678\u001b[0m | \u001b[1mStarted container 'magical_hypatia' (affa7a147f72)\u001b[0m\n",
      "\u001b[32m14:23:33.678\u001b[0m | \u001b[1mPort mappings: {7687: 55011, 7474: 55010}\u001b[0m\n",
      "\u001b[32m14:23:33.679\u001b[0m | \u001b[1mWaiting for 'magical_hypatia' (affa7a147f72) to be healthy ...\u001b[0m\n",
      "\u001b[32m14:23:38.406\u001b[0m | \u001b[32m\u001b[1mNeo4j container started 'magical_hypatia'\u001b[0m\n",
      "\u001b[32m14:23:38.408\u001b[0m | \u001b[1m |- Dashboard: http://localhost:55010\u001b[0m\n",
      "\u001b[32m14:23:38.409\u001b[0m | \u001b[1m |- Bolt URI:  bolt://localhost:55011\u001b[0m\n",
      "\u001b[32m14:23:38.424\u001b[0m | \u001b[32m\u001b[1mSuccessfully connected to Neo4j at bolt://localhost:55011\u001b[0m\n"
     ]
    },
    {
     "name": "stdout",
     "output_type": "stream",
     "text": [
      "✓ BBOT v2.5.0 ready\n",
      "✓ Neo4j ready at bolt://localhost:55011\n"
     ]
    },
    {
     "name": "stderr",
     "output_type": "stream",
     "text": [
      "\u001b[32m14:23:49.173\u001b[0m | \u001b[1mSuccessfully stopped container 'magical_hypatia' (affa7a147f72)\u001b[0m\n"
     ]
    }
   ],
   "source": [
    "# Verify BBOT + Neo4j work\n",
    "\n",
    "async with bbot_tool:\n",
    "    version = await bbot_tool.get_bbot_version()\n",
    "    print(f\"✓ BBOT {version} ready\")"
   ]
  },
  {
   "cell_type": "markdown",
   "metadata": {},
   "source": [
    "## 3. Test Tool Methods\n",
    "\n",
    "Verify individual tool capabilities before agent execution\n"
   ]
  },
  {
   "cell_type": "code",
   "execution_count": null,
   "metadata": {},
   "outputs": [],
   "source": [
    "# Test basic scan functionality\n",
    "\n",
    "async with bbot_tool:\n",
    "    scan_result = await bbot_tool.run_scan(\n",
    "        targets=[\"dreadnode.io\"],\n",
    "        modules=[\"httpx\"],  # Quick web discovery\n",
    "    )"
   ]
  },
  {
   "cell_type": "code",
   "execution_count": null,
   "metadata": {},
   "outputs": [],
   "source": [
    "# Test Neo4j queries\n",
    "\n",
    "async with bbot_tool:\n",
    "    scans = await bbot_tool.get_scans()\n",
    "    print(f\"\\n✓ Found {len(scans)} scans in database\")\n",
    "\n",
    "    print(scans)"
   ]
  },
  {
   "cell_type": "markdown",
   "metadata": {},
   "source": [
    "## 4. Configure Agent Prompt\n",
    "\n",
    "Use the operator prompt template with Jinja2 conditionals\n"
   ]
  },
  {
   "cell_type": "code",
   "execution_count": null,
   "metadata": {},
   "outputs": [],
   "source": [
    "# Define reconnaissance task and targets\n",
    "task = \"Perform subdomain enumeration and basic web discovery\"\n",
    "targets = [\"dreadnode.io\"]\n",
    "\n",
    "# Render the operator prompt with targets\n",
    "prompt = operator.render(task, targets=targets)\n",
    "\n",
    "print(prompt[:500] + \"...\")"
   ]
  },
  {
   "cell_type": "markdown",
   "metadata": {},
   "source": [
    "## 5. Execute Full Agent\n",
    "\n",
    "Run the complete agent pipeline with error handling and tool integration\n"
   ]
  },
  {
   "cell_type": "code",
   "execution_count": null,
   "metadata": {},
   "outputs": [],
   "source": [
    "# Configure model (change to your preferred model)\n",
    "model = \"openai/gpt-4.1\"  # or \"ollama/llama3.2\", \"anthropic/claude-3-sonnet\"\n",
    "max_steps = 20\n",
    "\n",
    "# Execute with Strikes tracking\n",
    "with dn.run(\"recon-agent\", tags=[\"workshop\"]):\n",
    "    dn.log_params(model=model, max_steps=max_steps, targets=targets)\n",
    "    dn.log_input(\"task\", task)\n",
    "\n",
    "    async with bbot_tool:\n",
    "        # Create the agent pipeline\n",
    "        chat = await (\n",
    "            rg.get_generator(model)\n",
    "            .chat(prompt)\n",
    "            .catch(*litellm.exceptions.LITELLM_EXCEPTION_TYPES, on_failed=\"include\")\n",
    "            .watch(rg.watchers.stream_to_logs)\n",
    "            .using(\n",
    "                finish_task,  # Task completion tool\n",
    "                update_todo,  # Todo management\n",
    "                highlight_for_review,  # Important findings\n",
    "                bbot_tool,  # BBOT scanning capabilities\n",
    "                max_depth=max_steps,\n",
    "            )\n",
    "            .name(\"BBOT Reconnaissance Agent\")\n",
    "            .run()\n",
    "        )\n",
    "\n",
    "    # Log results\n",
    "    if chat.failed:\n",
    "        if isinstance(chat.error, rg.error.MaxDepthError):\n",
    "            print(f\"⚠️  Agent reached max steps ({max_steps})\")\n",
    "            dn.log_metric(\"max_steps_reached\", 1)\n",
    "        else:\n",
    "            print(f\"❌ Agent failed: {chat.error}\")\n",
    "            dn.log_metric(\"agent_failed\", 1)\n",
    "    else:\n",
    "        print(\"✅ Agent completed successfully\")\n",
    "        dn.log_metric(\"agent_success\", 1)\n",
    "\n",
    "    dn.log_output(\"final_conversation\", chat.conversation)\n",
    "    dn.log_metric(\"total_messages\", len(chat.all))\n",
    "    dn.log_metric(\"tool_calls\", len([m for m in chat.all if m.tool_calls]))"
   ]
  }
 ],
 "metadata": {
  "kernelspec": {
   "display_name": ".venv",
   "language": "python",
   "name": "python3"
  },
  "language_info": {
   "codemirror_mode": {
    "name": "ipython",
    "version": 3
   },
   "file_extension": ".py",
   "mimetype": "text/x-python",
   "name": "python",
   "nbconvert_exporter": "python",
   "pygments_lexer": "ipython3",
   "version": "3.10.14"
  }
 },
 "nbformat": 4,
 "nbformat_minor": 2
}
