{
 "cells": [
  {
   "cell_type": "markdown",
   "metadata": {},
   "source": [
    "# 0. Setup\n",
    "\n",
    "```bash\n",
    "uv sync\n",
    "uv run dreadnode login\n",
    "```\n"
   ]
  },
  {
   "cell_type": "markdown",
   "metadata": {},
   "source": [
    "## 1. Initialize Components\n",
    "\n",
    "Set up Neo4j database, BBOT tool, and Strikes tracking\n"
   ]
  },
  {
   "cell_type": "code",
   "execution_count": null,
   "metadata": {},
   "outputs": [],
   "source": [
    "import dreadnode as dn\n",
    "import rigging as rg\n",
    "import litellm\n",
    "from loguru import logger\n",
    "\n",
    "from bbot_agent.tools import BbotTool, finish_task, update_todo, highlight_for_review\n",
    "from bbot_agent.prompts import operator\n",
    "\n",
    "# Configure Strikes\n",
    "dn.configure(\n",
    "    # api_key=\"your_api_key_here\",  # or `uv run dreadnode login`\n",
    "    project=\"agent-workshop\",\n",
    "    console=False,\n",
    ")\n",
    "\n",
    "# Create a BBOT tool to use Neo4j and containers\n",
    "bbot_tool = BbotTool(\n",
    "    # local=True # run BBOT locally\n",
    ")\n",
    "\n",
    "print(\"✓ Components initialized\")"
   ]
  },
  {
   "cell_type": "markdown",
   "metadata": {},
   "source": [
    "## 2. Start Services\n",
    "\n",
    "Launch Neo4j container and connect BBOT tool\n"
   ]
  },
  {
   "cell_type": "code",
   "execution_count": null,
   "metadata": {},
   "outputs": [],
   "source": [
    "# Verify BBOT + Neo4j work\n",
    "\n",
    "async with bbot_tool:\n",
    "    version = await bbot_tool.get_bbot_version()\n",
    "    print(f\"✓ BBOT {version} ready\")"
   ]
  },
  {
   "cell_type": "markdown",
   "metadata": {},
   "source": [
    "## 3. Test Tool Methods\n",
    "\n",
    "Verify individual tool capabilities before agent execution\n"
   ]
  },
  {
   "cell_type": "code",
   "execution_count": null,
   "metadata": {},
   "outputs": [],
   "source": [
    "# Test basic scan functionality\n",
    "\n",
    "async with bbot_tool:\n",
    "    scan_result = await bbot_tool.run_scan(\n",
    "        targets=[\"dreadnode.io\"],\n",
    "        modules=[\"httpx\"],  # Quick web discovery\n",
    "    )"
   ]
  },
  {
   "cell_type": "code",
   "execution_count": null,
   "metadata": {},
   "outputs": [],
   "source": [
    "# Test Neo4j queries\n",
    "\n",
    "async with bbot_tool as bbot:\n",
    "    scans = await bbot.get_scans()\n",
    "    print(f\"\\n✓ Found {len(scans)} scans in database\")\n",
    "    print(scans)"
   ]
  },
  {
   "cell_type": "markdown",
   "metadata": {},
   "source": [
    "## 4. Configure Agent Prompt\n",
    "\n",
    "Use the operator prompt template with Jinja2 conditionals\n"
   ]
  },
  {
   "cell_type": "code",
   "execution_count": null,
   "metadata": {},
   "outputs": [],
   "source": [
    "# Define reconnaissance task and targets\n",
    "task = \"Perform subdomain enumeration and basic web discovery\"\n",
    "targets = [\"dreadnode.io\"]\n",
    "\n",
    "# Render the operator prompt with targets\n",
    "prompt = operator.render(task, targets=targets)\n",
    "\n",
    "print(prompt[:500] + \"...\")"
   ]
  },
  {
   "cell_type": "markdown",
   "metadata": {},
   "source": [
    "## 5. Execute Full Agent\n",
    "\n",
    "Run the complete agent pipeline with error handling and tool integration\n"
   ]
  },
  {
   "cell_type": "code",
   "execution_count": null,
   "metadata": {},
   "outputs": [],
   "source": [
    "# Configure model (change to your preferred model)\n",
    "model = \"openai/gpt-4.1\"  # or \"ollama/llama3.2\", \"anthropic/claude-3-sonnet\"\n",
    "max_steps = 20\n",
    "\n",
    "# Execute with Strikes tracking\n",
    "with dn.run(\"recon-agent\", tags=[\"workshop\"]):\n",
    "    dn.log_params(model=model, max_steps=max_steps, targets=targets)\n",
    "    dn.log_input(\"task\", task)\n",
    "\n",
    "    async with bbot_tool:\n",
    "        # Create the agent pipeline\n",
    "        chat = await (\n",
    "            rg.get_generator(model)\n",
    "            .chat(prompt)\n",
    "            .catch(*litellm.exceptions.LITELLM_EXCEPTION_TYPES, on_failed=\"include\")\n",
    "            .watch(rg.watchers.stream_to_logs)\n",
    "            .using(\n",
    "                finish_task,  # Task completion tool\n",
    "                update_todo,  # Todo management\n",
    "                highlight_for_review,  # Important findings\n",
    "                bbot_tool,  # BBOT scanning capabilities\n",
    "                max_depth=max_steps,\n",
    "            )\n",
    "            .name(\"BBOT Reconnaissance Agent\")\n",
    "            .run()\n",
    "        )\n",
    "\n",
    "    # Log results\n",
    "    if chat.failed:\n",
    "        if isinstance(chat.error, rg.error.MaxDepthError):\n",
    "            print(f\"⚠️  Agent reached max steps ({max_steps})\")\n",
    "            dn.log_metric(\"max_steps_reached\", 1)\n",
    "        else:\n",
    "            print(f\"❌ Agent failed: {chat.error}\")\n",
    "            dn.log_metric(\"agent_failed\", 1)\n",
    "    else:\n",
    "        print(\"✅ Agent completed successfully\")\n",
    "        dn.log_metric(\"agent_success\", 1)\n",
    "\n",
    "    dn.log_output(\"final_conversation\", chat.conversation)\n",
    "    dn.log_metric(\"total_messages\", len(chat.all))\n",
    "    dn.log_metric(\"tool_calls\", len([m for m in chat.all if m.tool_calls]))"
   ]
  }
 ],
 "metadata": {
  "kernelspec": {
   "display_name": ".venv",
   "language": "python",
   "name": "python3"
  },
  "language_info": {
   "codemirror_mode": {
    "name": "ipython",
    "version": 3
   },
   "file_extension": ".py",
   "mimetype": "text/x-python",
   "name": "python",
   "nbconvert_exporter": "python",
   "pygments_lexer": "ipython3",
   "version": "3.10.14"
  }
 },
 "nbformat": 4,
 "nbformat_minor": 2
}
